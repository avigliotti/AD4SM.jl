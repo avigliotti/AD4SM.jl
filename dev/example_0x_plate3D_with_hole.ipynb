{
 "cells": [
  {
   "cell_type": "code",
   "execution_count": 1,
   "metadata": {},
   "outputs": [],
   "source": [
    "#! /u1/vian294/julia/julia-1.1.0/bin/julia -p 8 \n",
    "#PBS -N jHexaG1e3p08\n",
    "#PBS -l select=1:ncpus=8\n",
    "#PBS -j oe\n",
    "#PBS -k oe\n",
    "\n",
    "# qsub /u1/vian294/METMAT/AutoDiff/rev_paper1/example_3DSpring_r1.jl"
   ]
  },
  {
   "cell_type": "code",
   "execution_count": 2,
   "metadata": {},
   "outputs": [],
   "source": [
    "using Printf, WriteVTK, AbaqusReader, JLD, Dates, LinearAlgebra"
   ]
  },
  {
   "cell_type": "code",
   "execution_count": 12,
   "metadata": {},
   "outputs": [],
   "source": [
    "using Logging\n",
    "\n",
    "Logging.disable_logging(LogLevel(0))"
   ]
  },
  {
   "cell_type": "code",
   "execution_count": 3,
   "metadata": {},
   "outputs": [
    {
     "data": {
      "text/plain": [
       "Main.Elements"
      ]
     },
     "execution_count": 3,
     "metadata": {},
     "output_type": "execute_result"
    }
   ],
   "source": [
    "let sPath = \"/home/andrea/Documents/github/AD4SM.jl/src/\"\n",
    "# let sPath = \"C:\\\\Users\\\\vian294\\\\OneDrive - CIRA\\\\Documents\\\\github\\\\AD4SM.jl\\\\src\\\\\"\n",
    "  include(sPath*\"adiff.jl\")\n",
    "  include(sPath*\"materials.jl\")\n",
    "  include(sPath*\"elements.jl\")\n",
    "end"
   ]
  },
  {
   "cell_type": "code",
   "execution_count": 4,
   "metadata": {},
   "outputs": [],
   "source": [
    "# @show Elements.setp(8)\n",
    "\n",
    "mean(x)   = sum(x)/length(x)\n",
    "\n",
    "# sMeshFile = \"phole3D_h0500.inp\" \n",
    "sMeshFile = \"phole3D_h0330.inp\"\n",
    "# mat       = Materials.NeoHooke(10, 1e3)\n",
    "mat       = Materials.Ogden(8,1,1e3)\n",
    "\n",
    "bisinc    = true\n",
    "sVTKpath  = \"./vtk_files/\"\n",
    "bVTKall   = true\n",
    "sPosFix   = \"_1e3w250\"\n",
    "# ϵn0       = -0.24\n",
    "\n",
    "N         = 30 \n",
    "LF        = range(0, 1, length=N)\n",
    "#LF        = vcat(range(0.0, 0.7, length=N÷3),\n",
    "#                 range(0.7, 1.0, length=2N÷3+1))\n",
    "nSteps    = length(LF)\n",
    ";"
   ]
  },
  {
   "cell_type": "code",
   "execution_count": 13,
   "metadata": {},
   "outputs": [
    {
     "name": "stderr",
     "output_type": "stream",
     "text": [
      "┌ Warning: Unknown section: 'HEADING'\n",
      "└ @ AbaqusReader /home/andrea/.julia/packages/AbaqusReader/C1mY0/src/parse_mesh.jl:270\n"
     ]
    }
   ],
   "source": [
    "sFileName = splitext(sMeshFile)[1]*sPosFix\n",
    "mymodel   = AbaqusReader.abaqus_read_mesh(sMeshFile)\n",
    "nodes     = [mymodel[\"nodes\"][ii] for ii in 1:mymodel[\"nodes\"].count]\n",
    "el_nodes  = [item[2]              for item in mymodel[\"elements\"]] \n",
    "\n",
    "\n",
    "\n",
    "id_l = mymodel[\"node_sets\"][\"left_bnd\"]\n",
    "id_r = mymodel[\"node_sets\"][\"right_bnd\"]\n",
    "id_t = mymodel[\"node_sets\"][\"top_bnd\"]\n",
    "id_b = mymodel[\"node_sets\"][\"bottom_bnd\"]\n",
    "\n",
    "\n",
    "n_t, n_b  = length(id_t), length(id_b)\n",
    ";"
   ]
  },
  {
   "cell_type": "code",
   "execution_count": 14,
   "metadata": {},
   "outputs": [
    {
     "name": "stdout",
     "output_type": "stream",
     "text": [
      "(Δx, Δy, Δz) = (xmax - xmin, ymax - ymin, zmax - zmin) = (5.0, 5.0, 1.0)\n"
     ]
    }
   ],
   "source": [
    "(xmin, xmax) = extrema([item[2][1] for item ∈ mymodel[\"nodes\"]])\n",
    "(ymin, ymax) = extrema([item[2][2] for item ∈ mymodel[\"nodes\"]])\n",
    "(zmin, zmax) = extrema([item[2][3] for item ∈ mymodel[\"nodes\"]])\n",
    "@show Δx, Δy, Δz      = (xmax-xmin), (ymax-ymin), (zmax-zmin)\n",
    ";"
   ]
  },
  {
   "cell_type": "code",
   "execution_count": 15,
   "metadata": {},
   "outputs": [
    {
     "name": "stdout",
     "output_type": "stream",
     "text": [
      "(nNodes, nElems) = (length(nodes), length(el_nodes)) = (1490, 984)\n"
     ]
    }
   ],
   "source": [
    "@show nNodes, nElems  = length(nodes), length(el_nodes)\n",
    ";"
   ]
  },
  {
   "cell_type": "code",
   "execution_count": 16,
   "metadata": {},
   "outputs": [
    {
     "data": {
      "text/plain": [
       "Main.Materials.Ogden(16.0, 1.0, 100.0)"
      ]
     },
     "execution_count": 16,
     "metadata": {},
     "output_type": "execute_result"
    }
   ],
   "source": [
    "mat       = Materials.Ogden(16,1,1e2)"
   ]
  },
  {
   "cell_type": "code",
   "execution_count": 17,
   "metadata": {},
   "outputs": [],
   "source": [
    "points    = hcat(nodes...)\n",
    "cells     = [if length(item)==4\n",
    "               MeshCell(VTKCellTypes.VTK_TETRA, item)\n",
    "             else \n",
    "               MeshCell(VTKCellTypes.VTK_HEXAHEDRON, item)\n",
    "             end for item in el_nodes]\n",
    "elems     = [if length(item)==4\n",
    "               Elements.Tet04(item, nodes[item], mat=mat)\n",
    "             else \n",
    "               Elements.Hex08(item, nodes[item], mat=mat)\n",
    "             end for item  in el_nodes]\n",
    ";"
   ]
  },
  {
   "cell_type": "code",
   "execution_count": 18,
   "metadata": {},
   "outputs": [
    {
     "name": "stdout",
     "output_type": "stream",
     "text": [
      "starting phole3D_h0330_1e3w250 \n",
      "\n"
     ]
    }
   ],
   "source": [
    "@printf(\"starting %s \\n\\n\", sFileName) \n",
    "\n",
    "ifree = trues(3, nNodes)  \n",
    "unew  = zeros(3, nNodes)\n",
    "λnew  = zeros(6)\n",
    "idxes = LinearIndices(unew)\n",
    "fnew  = zeros(3, nNodes)\n",
    "allus = []\n",
    "t0    = Base.time_ns()\n",
    ";"
   ]
  },
  {
   "cell_type": "code",
   "execution_count": 23,
   "metadata": {},
   "outputs": [],
   "source": [
    "ϵn0       = 0.5\n",
    ";"
   ]
  },
  {
   "cell_type": "code",
   "execution_count": 24,
   "metadata": {},
   "outputs": [],
   "source": [
    "u              = fill(NaN, 3, nNodes)\n",
    "u[:,id_b]     .= 0\n",
    "u[1,id_t]     .= 0 \n",
    "u[3,id_t]     .= 0\n",
    "u[2,id_t]     .= ϵn0*Δy\n",
    "\n",
    "ifree     = isnan.(u)\n",
    "icnst     = .!ifree\n",
    ";"
   ]
  },
  {
   "cell_type": "code",
   "execution_count": 25,
   "metadata": {},
   "outputs": [
    {
     "name": "stdout",
     "output_type": "stream",
     "text": [
      "\n",
      "predictor step done in 2.66 sec., with normupdt: 1.85e-05, starting corrector loop\n",
      "iter:  0, norm0: 1.34e-05, normru: 8.00e-01, normre: NaN, normupdt: 3.70e-05, α: -1.000, eltime: 3.01 sec.\n",
      "iter:  1, norm0: 1.20e-09, normru: 6.87e-10, normre: NaN, eltime: 2.48 sec.\n",
      "  8.153007 seconds (4.03 M allocations: 29.440 GiB, 11.42% gc time)\n"
     ]
    }
   ],
   "source": [
    "u0         = 1e-6Δy*randn(3, nNodes)\n",
    "u0[icnst] .= 0\n",
    "unew       = copy(u0)\n",
    "@time Elements.solvestep!(elems, u0, unew, ifree, bprogress=false, becho=true)\n",
    "u[ifree] .= unew[ifree]\n",
    ";"
   ]
  },
  {
   "cell_type": "markdown",
   "metadata": {},
   "source": [
    "### Do the compressive branch"
   ]
  },
  {
   "cell_type": "code",
   "execution_count": 26,
   "metadata": {},
   "outputs": [
    {
     "name": "stdout",
     "output_type": "stream",
     "text": [
      "step   1/20, LF=0.000, done in  1 iter, after 5.46 sec.\n",
      "step   2/20, LF=0.053, done in  4 iter, after 13.16 sec.\n",
      "step   3/20, LF=0.105, done in  3 iter, after 10.60 sec.\n",
      "step   4/20, LF=0.158, done in  3 iter, after 11.14 sec.\n",
      "step   5/20, LF=0.211, done in  3 iter, after 10.69 sec.\n",
      "step   6/20, LF=0.263, done in  3 iter, after 10.57 sec.\n",
      "step   7/20, LF=0.316, done in  3 iter, after 10.69 sec.\n",
      "step   8/20, LF=0.368, done in  2 iter, after 7.66 sec.\n",
      "step   9/20, LF=0.421, done in  2 iter, after 8.32 sec.\n",
      "step  10/20, LF=0.474, done in  2 iter, after 8.48 sec.\n",
      "step  11/20, LF=0.526, done in  2 iter, after 7.96 sec.\n",
      "step  12/20, LF=0.579, done in  2 iter, after 8.89 sec.\n",
      "step  13/20, LF=0.632, done in  2 iter, after 8.41 sec.\n",
      "step  14/20, LF=0.684, done in  2 iter, after 8.21 sec.\n",
      "step  15/20, LF=0.737, done in  2 iter, after 7.84 sec.\n",
      "step  16/20, LF=0.789, done in  2 iter, after 7.50 sec.\n",
      "step  17/20, LF=0.842, done in  2 iter, after 7.70 sec.\n",
      "step  18/20, LF=0.895, done in  2 iter, after 7.57 sec.\n",
      "step  19/20, LF=0.947, done in  2 iter, after 7.74 sec.\n",
      "step  20/20, LF=1.000, done in  2 iter, after 7.52 sec.\n",
      "completed in 2 minutes, 56 seconds\n"
     ]
    }
   ],
   "source": [
    "N       = 20\n",
    "#LF_c    = vcat(range(0.0, 0.9, length=2N÷8),\n",
    "#               range(0.9, 1.0, length=6N÷8))\n",
    "LF_c    = range(0.0, 1.0, length=N)\n",
    "\n",
    "allus_c = Elements.solve(elems, u, LF=LF_c, ifree=ifree, \n",
    "  bprogress=false, becho=true, bechoi=false)\n",
    ";"
   ]
  },
  {
   "cell_type": "raw",
   "metadata": {},
   "source": [
    "Δu_tot = [mean(item[1][3,id_b]) for item in allus]\n",
    "rf_tot = [item[3][3]            for item in allus]"
   ]
  },
  {
   "cell_type": "raw",
   "metadata": {},
   "source": [
    "JLD.save(sFileName*\".jld\", \"nodes\", nodes, \"elems\", elems, \"allus\", allus,\n",
    "         \"points\", points, \"cells\", cells, \"LF\", LF, \"mat\", mat, \n",
    "         \"Nsteps\", length(LF), \"id_b\", id_b, \"id_t\", id_t, \n",
    "         \"rf_tot\", rf_tot, \"Δu_tot\", Δu_tot, \"sFileName\", sFileName)\n",
    "@printf(\"results written to %s\\n\", sFileName)"
   ]
  },
  {
   "cell_type": "code",
   "execution_count": 28,
   "metadata": {},
   "outputs": [
    {
     "data": {
      "text/plain": [
       "21-element Array{String,1}:\n",
       " \"./vtk_files/phole3D_h0330_1e3w250.pvd\"\n",
       " \"./vtk_files/phole3D_h0330_1e3w250_001.vtu\"\n",
       " \"./vtk_files/phole3D_h0330_1e3w250_002.vtu\"\n",
       " \"./vtk_files/phole3D_h0330_1e3w250_003.vtu\"\n",
       " \"./vtk_files/phole3D_h0330_1e3w250_004.vtu\"\n",
       " \"./vtk_files/phole3D_h0330_1e3w250_005.vtu\"\n",
       " \"./vtk_files/phole3D_h0330_1e3w250_006.vtu\"\n",
       " \"./vtk_files/phole3D_h0330_1e3w250_007.vtu\"\n",
       " \"./vtk_files/phole3D_h0330_1e3w250_008.vtu\"\n",
       " \"./vtk_files/phole3D_h0330_1e3w250_009.vtu\"\n",
       " \"./vtk_files/phole3D_h0330_1e3w250_010.vtu\"\n",
       " \"./vtk_files/phole3D_h0330_1e3w250_011.vtu\"\n",
       " \"./vtk_files/phole3D_h0330_1e3w250_012.vtu\"\n",
       " \"./vtk_files/phole3D_h0330_1e3w250_013.vtu\"\n",
       " \"./vtk_files/phole3D_h0330_1e3w250_014.vtu\"\n",
       " \"./vtk_files/phole3D_h0330_1e3w250_015.vtu\"\n",
       " \"./vtk_files/phole3D_h0330_1e3w250_016.vtu\"\n",
       " \"./vtk_files/phole3D_h0330_1e3w250_017.vtu\"\n",
       " \"./vtk_files/phole3D_h0330_1e3w250_018.vtu\"\n",
       " \"./vtk_files/phole3D_h0330_1e3w250_019.vtu\"\n",
       " \"./vtk_files/phole3D_h0330_1e3w250_020.vtu\""
      ]
     },
     "execution_count": 28,
     "metadata": {},
     "output_type": "execute_result"
    }
   ],
   "source": [
    "paraview_collection(sVTKpath*sFileName) do pvd\n",
    "  for (ii, item) in enumerate(allus_c)\n",
    "    (u0,rf) = item[1:2]\n",
    "    F   = Elements.getinfo(elems,u0,info=:F)\n",
    "    LE  = Elements.getinfo(elems,u0,info=:LE)\n",
    "    J   = [det(F) for F in F]\n",
    "    E   = [0.5*(transpose(F)*F-I) for F in F]\n",
    "    σ   = [Materials.getinfo(F,mat,info=:σ)        for F in F]  # Cauchy stress\n",
    "    S   = [Materials.getinfo(F,mat,info=:S)        for F in F]  # 2nd PK\n",
    "    Ii  = [Materials.getInvariants(transpose(F)F)  for F in F]  # 2nd PK\n",
    "    σP  = [sort(eigvals(σ))  for σ  in σ]\n",
    "    σVM = [sqrt((x[1]-x[2])^2+(x[2]-x[3])^2+(x[3]-x[1])^2)/sqrt(2)  for x in σP]\n",
    "\n",
    "    vtkobj  = vtk_grid(@sprintf(\"%s_%03i\", sVTKpath*sFileName, ii), points+u0, cells)\n",
    "    vtk_point_data(vtkobj, (u0[1,:],u0[2,:],u0[3,:]),                   \"u\")\n",
    "    vtk_point_data(vtkobj, (rf[1,:],rf[2,:],rf[3,:]),                   \"rf\")\n",
    "    vtk_cell_data(vtkobj,  tuple([getindex.(F,ii)  for ii in 1:9]...),  \"F\")\n",
    "    vtk_cell_data(vtkobj,  tuple([getindex.(LE,ii)  for ii in 1:9]...), \"LE\")\n",
    "    vtk_cell_data(vtkobj,  J,   \"J\")\n",
    "    vtk_cell_data(vtkobj,  tuple([getindex.(σ,ii)   for ii in 1:9]...), \"\\$\\\\sigma\\$\")\n",
    "    vtk_cell_data(vtkobj,  tuple([getindex.(σP,ii)  for ii in 1:3]...), \"\\$\\\\sigma_p\\$\")\n",
    "    vtk_cell_data(vtkobj,  tuple([getindex.(Ii,ii)  for ii in 1:3]...), \"I\")\n",
    "    vtk_cell_data(vtkobj,  σVM, \"\\$\\\\sigma_{VM}\\$\")\n",
    "\n",
    "    collection_add_timestep(pvd, vtkobj, ii)\n",
    "    vtk_save(vtkobj)\n",
    "  end\n",
    "end  "
   ]
  }
 ],
 "metadata": {
  "kernelspec": {
   "display_name": "Julia 1.5.0",
   "language": "julia",
   "name": "julia-1.5"
  },
  "language_info": {
   "file_extension": ".jl",
   "mimetype": "application/julia",
   "name": "julia",
   "version": "1.5.0"
  }
 },
 "nbformat": 4,
 "nbformat_minor": 4
}
